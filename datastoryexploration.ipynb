{
 "cells": [
  {
   "cell_type": "markdown",
   "id": "fba2680b-0b63-4ce9-88d3-8aea39af9664",
   "metadata": {},
   "source": [
    "## Importance of Context"
   ]
  },
  {
   "cell_type": "markdown",
   "id": "ea703bbc-c421-4bcb-a81f-f9fe4df296d5",
   "metadata": {},
   "source": [
    "**Exploratory vs Explanatory**\n",
    "\n",
    "Exploratory: looking for pearls among hundreds of oysters, showing all oysters.\n",
    "\n",
    "Explanatory: showing the pearls."
   ]
  },
  {
   "cell_type": "markdown",
   "id": "d91f225a-2fb8-4cfc-9775-e736a86ba65d",
   "metadata": {},
   "source": [
    "Context:\n",
    "1) Who are you communicating to?\n",
    "2) What do you want them to do?\n",
    "\n",
    "\"When it really isn’t appropriate to recommend an action explicitly, encourage discussion toward one. Suggesting possible next steps can be a great way to get the conversation going because it gives your audience something to react to rather than starting with a blank slate.\"\n",
    "\n",
    "Action words for prompting action:\n",
    "\n",
    "|   |   |   |   |   |\n",
    "|---|---|---|---|---|\n",
    "| accept        | agree         | begin         | believe       | change        |\n",
    "| collaborate   | commence      | create        | defend        | desire        |\n",
    "| differentiate | do            | empathize     | empower       | encourage     |\n",
    "| engage        | establish     | examine       | facilitate    | familiarize   |\n",
    "| form          | implement     | include       | influence     | invest        |\n",
    "| invigorate    | know          | learn         | like          | persuade      |\n",
    "| plan          | promote       | pursue        | recommend     | receive       |\n",
    "| remember      | report        | respond       | secure        | support       |\n",
    "| simplify      | start         | try           | understand    | validate      |"
   ]
  },
  {
   "cell_type": "markdown",
   "id": "efe821f0-c850-4986-9a01-a6d71dd7dedc",
   "metadata": {},
   "source": [
    "### Questions for gaining additional context (eg. from boss)\n",
    "- What background information is relevant or essential?\n",
    "- Who is the audience or decision maker? What do we know about them?\n",
    "- What biases does our audience have that might make them supportive of or resistant to our message?\n",
    "- What data is available that would strengthen our case? Is our audience familiar with this data, or is it new?\n",
    "- Where are the risks: what factors could weaken our case and do we need to proactively address them?\n",
    "- What would a successful outcome look like?\n",
    "- If you only had a limited amount of time or a single sentence to tell your audience what they need to know, what would you say?"
   ]
  },
  {
   "cell_type": "markdown",
   "id": "855b3a3d-79bb-4c22-8129-93e3024819d5",
   "metadata": {},
   "source": [
    "### Presenting your ideas/data: 3 Minute story\n",
    "- Removes dependence on slides or presentation\n",
    "- When boss aska what youre working on\n",
    "- Elevator with one of stakeholders, give quick rundown\n",
    "- Presentation time shortened\n",
    "Esssentially knowing **exactly** what you want to communicate\n",
    "\n",
    "### The big idea: Only ONE sentence\n",
    "This is a concept that Nancy Duarte discusses in her book, Resonate (2010). She says the Big Idea has three components:\n",
    "1. It must articulate your unique point of view;\n",
    "2. It must convey what’s at stake; and\n",
    "3. It must be a complete sentence."
   ]
  }
 ],
 "metadata": {
  "kernelspec": {
   "display_name": "Python 3 (ipykernel)",
   "language": "python",
   "name": "python3"
  },
  "language_info": {
   "codemirror_mode": {
    "name": "ipython",
    "version": 3
   },
   "file_extension": ".py",
   "mimetype": "text/x-python",
   "name": "python",
   "nbconvert_exporter": "python",
   "pygments_lexer": "ipython3",
   "version": "3.10.6"
  }
 },
 "nbformat": 4,
 "nbformat_minor": 5
}
